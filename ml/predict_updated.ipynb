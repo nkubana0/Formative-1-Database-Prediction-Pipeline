{
 "cells": [
  {
   "cell_type": "markdown",
   "id": "26a82e70",
   "metadata": {},
   "source": [
    "\n",
    "# 🔍 Updated Loan Prediction Notebook\n",
    "\n",
    "This notebook fetches data for a specific person and loan from the FastAPI backend, prepares the input features, runs a machine learning model, and updates the loan status in both SQL and MongoDB.\n"
   ]
  },
  {
   "cell_type": "markdown",
   "metadata": {},
   "source": [
    "# Loan Prediction: Model Training, Evaluation, and Pipeline\n",
    "\n",
    "This notebook covers the end-to-end process for the loan prediction model.\n",
    "1.  **Model Training & Evaluation**: We load the dataset, preprocess it, train a Logistic Regression model, and evaluate its performance.\n",
    "2.  **Full Prediction Pipeline**: We use the trained model in a simulation that uses our API to fetch data and log a prediction."
   ]
  },
  {
   "cell_type": "code",
   "execution_count": 4,
   "metadata": {},
   "outputs": [
    {
     "ename": "ModuleNotFoundError",
     "evalue": "No module named 'pandas'",
     "output_type": "error",
     "traceback": [
      "\u001b[31m---------------------------------------------------------------------------\u001b[39m",
      "\u001b[31mModuleNotFoundError\u001b[39m                       Traceback (most recent call last)",
      "\u001b[36mCell\u001b[39m\u001b[36m \u001b[39m\u001b[32mIn[4]\u001b[39m\u001b[32m, line 2\u001b[39m\n\u001b[32m      1\u001b[39m \u001b[38;5;66;03m#Imports and Setup\u001b[39;00m\n\u001b[32m----> \u001b[39m\u001b[32m2\u001b[39m \u001b[38;5;28;01mimport\u001b[39;00m\u001b[38;5;250m \u001b[39m\u001b[34;01mpandas\u001b[39;00m\u001b[38;5;250m \u001b[39m\u001b[38;5;28;01mas\u001b[39;00m\u001b[38;5;250m \u001b[39m\u001b[34;01mpd\u001b[39;00m\n\u001b[32m      3\u001b[39m \u001b[38;5;28;01mimport\u001b[39;00m\u001b[38;5;250m \u001b[39m\u001b[34;01mnumpy\u001b[39;00m\u001b[38;5;250m \u001b[39m\u001b[38;5;28;01mas\u001b[39;00m\u001b[38;5;250m \u001b[39m\u001b[34;01mnp\u001b[39;00m\n\u001b[32m      4\u001b[39m \u001b[38;5;28;01mimport\u001b[39;00m\u001b[38;5;250m \u001b[39m\u001b[34;01mseaborn\u001b[39;00m\u001b[38;5;250m \u001b[39m\u001b[38;5;28;01mas\u001b[39;00m\u001b[38;5;250m \u001b[39m\u001b[34;01msns\u001b[39;00m\n",
      "\u001b[31mModuleNotFoundError\u001b[39m: No module named 'pandas'"
     ]
    }
   ],
   "source": [
    "#Imports and Setup\n",
    "import pandas as pd\n",
    "import numpy as np\n",
    "import seaborn as sns\n",
    "import matplotlib.pyplot as plt\n",
    "import requests\n",
    "import joblib\n",
    "import os\n",
    "from dotenv import load_dotenv\n",
    "\n",
    "from sklearn.model_selection import train_test_split, learning_curve\n",
    "from sklearn.linear_model import LogisticRegression\n",
    "from sklearn.metrics import confusion_matrix, classification_report\n",
    "from sklearn.preprocessing import StandardScaler\n",
    "\n",
    "# Load environment variables from .env file\n",
    "load_dotenv()\n",
    "print(\"Libraries imported and environment loaded.\")"
   ]
  },
  {
   "cell_type": "markdown",
   "metadata": {},
   "source": [
    "## Part 1: Model Training and Evaluation"
   ]
  },
  {
   "cell_type": "code",
   "execution_count": 58,
   "metadata": {},
   "outputs": [
    {
     "name": "stdout",
     "output_type": "stream",
     "text": [
      "Dataset loaded successfully.\n",
      "\n",
      "Data Preprocessing Complete.\n"
     ]
    }
   ],
   "source": [
    "#Load and Preprocess the Data\n",
    "try:\n",
    "    df = pd.read_csv('../data/Phase2.csv')\n",
    "    print(\"Dataset loaded successfully.\")\n",
    "    df.dropna(inplace=True)\n",
    "except FileNotFoundError:\n",
    "    print(\"Error: 'data/Phase2.csv' not found.\")\n",
    "\n",
    "# Convert categorical columns to numerical using one-hot encoding\n",
    "categorical_cols = ['person_gender', 'person_education', 'person_home_ownership', 'loan_intent', 'previous_loan_defaults_on_file']\n",
    "df_processed = pd.get_dummies(df, columns=categorical_cols, drop_first=True)\n",
    "\n",
    "# Define Features (X) and Target (y)\n",
    "y = df_processed['loan_status']\n",
    "X = df_processed.drop('loan_status', axis=1)\n",
    "\n",
    "print(\"\\nData Preprocessing Complete.\")"
   ]
  },
  {
   "cell_type": "code",
   "execution_count": 59,
   "metadata": {},
   "outputs": [
    {
     "name": "stdout",
     "output_type": "stream",
     "text": [
      "Data split and scaled.\n"
     ]
    }
   ],
   "source": [
    "#Split Data and Scale Features\n",
    "X_train, X_test, y_train, y_test = train_test_split(X, y, test_size=0.2, random_state=42, stratify=y)\n",
    "\n",
    "# Scale features\n",
    "scaler = StandardScaler()\n",
    "X_train_scaled = scaler.fit_transform(X_train)\n",
    "X_test_scaled = scaler.transform(X_test)\n",
    "\n",
    "print(\"Data split and scaled.\")"
   ]
  },
  {
   "cell_type": "code",
   "execution_count": 60,
   "metadata": {},
   "outputs": [
    {
     "name": "stdout",
     "output_type": "stream",
     "text": [
      "Model training complete.\n",
      "Trained model, scaler, and columns saved to 'ml/saved_model/pipeline_assets.joblib'.\n"
     ]
    }
   ],
   "source": [
    "# Train Model and Save Pipeline Assets\n",
    "model = LogisticRegression(max_iter=1000, random_state=42, class_weight='balanced')\n",
    "model.fit(X_train_scaled, y_train)\n",
    "print(\"Model training complete.\")\n",
    "\n",
    "# Save all assets needed for the pipeline in one file\n",
    "pipeline_assets = {\n",
    "    'model': model,\n",
    "    'scaler': scaler,\n",
    "    'columns': X.columns.tolist() # Save the column order\n",
    "}\n",
    "joblib.dump(pipeline_assets, 'saved_model/pipeline_assets.joblib')\n",
    "print(\"Trained model, scaler, and columns saved to 'ml/saved_model/pipeline_assets.joblib'.\")"
   ]
  },
  {
   "cell_type": "code",
   "execution_count": 61,
   "metadata": {},
   "outputs": [
    {
     "name": "stdout",
     "output_type": "stream",
     "text": [
      "--- Classification Report (Threshold = 0.75) ---\n",
      "              precision    recall  f1-score   support\n",
      "\n",
      "Rejected (0)       0.94      0.93      0.93      6999\n",
      "Approved (1)       0.75      0.78      0.77      2000\n",
      "\n",
      "    accuracy                           0.89      8999\n",
      "   macro avg       0.84      0.85      0.85      8999\n",
      "weighted avg       0.90      0.89      0.89      8999\n",
      "\n",
      "\n",
      "--- Confusion Matrix (Threshold = 0.75) ---\n"
     ]
    },
    {
     "data": {
      "image/png": "[encoded data removed]",
      "text/plain": [
       "<Figure size 800x600 with 2 Axes>"
      ]
     },
     "metadata": {},
     "output_type": "display_data"
    }
   ],
   "source": [
    "# Evaluate Model Performance with an Adjustable Threshold\n",
    "\n",
    "# --- NEW: Define your decision threshold ---\n",
    "# Default is 0.5. Raise it to reduce False Positives (be stricter).\n",
    "# Lower it to reduce False Negatives (be more lenient).\n",
    "decision_threshold = 0.75 \n",
    "\n",
    "# --- NEW: Get probabilities instead of direct predictions ---\n",
    "# This gets the probability for the 'Approved' class (the second column)\n",
    "y_pred_probs = model.predict_proba(X_test_scaled)[:, 1]\n",
    "\n",
    "# --- NEW: Apply the threshold to get the final predictions ---\n",
    "y_pred = (y_pred_probs >= decision_threshold).astype(int)\n",
    "\n",
    "\n",
    "# --- Classification Report ---\n",
    "print(f\"--- Classification Report (Threshold = {decision_threshold}) ---\")\n",
    "# Use names that match the final decision\n",
    "print(classification_report(y_test, y_pred, target_names=['Rejected (0)', 'Approved (1)']))\n",
    "\n",
    "\n",
    "# --- Confusion Matrix ---\n",
    "print(f\"\\n--- Confusion Matrix (Threshold = {decision_threshold}) ---\")\n",
    "cm = confusion_matrix(y_test, y_pred)\n",
    "\n",
    "# Visualize the confusion matrix with the corrected labels\n",
    "plt.figure(figsize=(8, 6))\n",
    "sns.heatmap(cm, annot=True, fmt='d', cmap='Blues', \n",
    "            xticklabels=['Rejected', 'Approved'], \n",
    "            yticklabels=['Rejected', 'Approved'])\n",
    "plt.xlabel('Predicted Label')\n",
    "plt.ylabel('True Label')\n",
    "plt.title('Confusion Matrix')\n",
    "plt.show()"
   ]
  },
  {
   "cell_type": "markdown",
   "metadata": {},
   "source": [
    "## Part 2: Full Prediction Pipeline\n",
    "This section runs the final pipeline to fetch data from the API and log a prediction."
   ]
  },
  {
   "cell_type": "code",
   "execution_count": null,
   "id": "e5a1c73d",
   "metadata": {},
   "outputs": [],
   "source": [
    "# Define mapping and processing logic\n",
    "ownership_map = {0: \"RENT\", 1: \"OWN\", 2: \"MORTGAGE\"}\n",
    "input_df = pd.DataFrame(columns=training_columns, index=[0]).fillna(0)\n",
    "\n",
    "# Person features\n",
    "input_df.loc[0, 'person_age'] = person['age']\n",
    "input_df.loc[0, 'person_income'] = person['income']\n",
    "input_df.loc[0, 'person_home_ownership'] = ownership_map.get(person['home_ownership_id'], \"RENT\")\n",
    "input_df.loc[0, 'person_emp_length'] = person['employment_experience']\n",
    "input_df.loc[0, 'cb_person_default_on_file'] = \"Y\" if person['credit_score'] < 650 else \"N\"\n",
    "input_df.loc[0, 'cb_person_cred_hist_length'] = person['credit_history_length']\n",
    "\n",
    "# Loan features\n",
    "input_df.loc[0, 'loan_amnt'] = loan['loan_amount']\n",
    "input_df.loc[0, 'loan_int_rate'] = float(loan['loan_interest_rate'])\n",
    "input_df.loc[0, 'loan_percent_income'] = float(loan['loan_amount']) / float(person['income'])\n",
    "\n",
    "input_df\n"
   ]
  }
 ],
 "metadata": {
  "kernelspec": {
   "display_name": "venv",
   "language": "python",
   "name": "python3"
  },
  "language_info": {
   "codemirror_mode": {
    "name": "ipython",
    "version": 3
   },
   "file_extension": ".py",
   "mimetype": "text/x-python",
   "name": "python",
   "nbconvert_exporter": "python",
   "pygments_lexer": "ipython3",
   "version": "3.13.5"
  }
 },
 "nbformat": 4,
 "nbformat_minor": 2
}
